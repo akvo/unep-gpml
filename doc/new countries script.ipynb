{
 "cells": [
  {
   "cell_type": "code",
   "execution_count": null,
   "metadata": {},
   "outputs": [],
   "source": [
    "import pandas as pd\n",
    "import json\n",
    "pd.options.display.max_rows = 999"
   ]
  },
  {
   "cell_type": "markdown",
   "metadata": {},
   "source": [
    "# Create new_countries.json"
   ]
  },
  {
   "cell_type": "code",
   "execution_count": null,
   "metadata": {},
   "outputs": [],
   "source": [
    "countries = open('../frontend/public/unep-gpml.topo.json')\n",
    "countries = json.loads(countries.read())"
   ]
  },
  {
   "cell_type": "code",
   "execution_count": null,
   "metadata": {},
   "outputs": [],
   "source": [
    "countries = [x['properties'] for x in countries['objects']['Country_Polygon']['geometries']]\n",
    "countries = pd.DataFrame(countries)"
   ]
  },
  {
   "cell_type": "code",
   "execution_count": null,
   "metadata": {},
   "outputs": [],
   "source": [
    "countries"
   ]
  },
  {
   "cell_type": "code",
   "execution_count": null,
   "metadata": {},
   "outputs": [],
   "source": [
    "countries.groupby('ROMNAM').count()['OBJECTID'].nlargest(10)"
   ]
  },
  {
   "cell_type": "code",
   "execution_count": null,
   "metadata": {},
   "outputs": [],
   "source": [
    "countries[countries['M49Code'].isna()]"
   ]
  },
  {
   "cell_type": "code",
   "execution_count": null,
   "metadata": {},
   "outputs": [],
   "source": [
    "countries[countries['ISO3CD'] == 'SHN']"
   ]
  },
  {
   "cell_type": "code",
   "execution_count": null,
   "metadata": {},
   "outputs": [],
   "source": [
    "countries[countries['ROMNAM'] != countries['MAP_LABEL']]"
   ]
  },
  {
   "cell_type": "code",
   "execution_count": null,
   "metadata": {},
   "outputs": [],
   "source": [
    "countries[countries['ISO3CD'] == 'SHN'].to_dict('records')"
   ]
  },
  {
   "cell_type": "code",
   "execution_count": null,
   "metadata": {},
   "outputs": [],
   "source": [
    "countries.groupby('M49Code').count()['OBJECTID'].nlargest(5)"
   ]
  },
  {
   "cell_type": "code",
   "execution_count": null,
   "metadata": {},
   "outputs": [],
   "source": [
    "## Rename ROMNAM for SHN ISO3CD\n",
    "def renameRomnam(df):\n",
    "    if (df['ISO3CD'] == 'SHN'):\n",
    "        return df['MAP_LABEL'].replace(\" *\", \"\")\n",
    "    return df['ROMNAM']\n",
    "\n",
    "countries['ROMNAM'] = countries.apply(renameRomnam, axis=1)"
   ]
  },
  {
   "cell_type": "code",
   "execution_count": null,
   "metadata": {},
   "outputs": [],
   "source": [
    "countries = countries.rename(columns={'M49Code':'id','ISO3CD':'iso_code','ROMNAM':'name', 'MAP_LABEL':'label', 'MAP_COLOR':'territory','STATUS':'description'})\n",
    "countries = countries[['id','iso_code','label', 'name', 'territory','description']]\n",
    "countries['member'] = countries['description'].apply(lambda x: 1 if x == 'Member State' else 2)"
   ]
  },
  {
   "cell_type": "code",
   "execution_count": null,
   "metadata": {},
   "outputs": [],
   "source": [
    "## FILTER WHERE ISOCODE IS NOT NULL (remove lake value)\n",
    "countries = countries[countries['iso_code'].notna()]"
   ]
  },
  {
   "cell_type": "code",
   "execution_count": null,
   "metadata": {},
   "outputs": [],
   "source": [
    "## DROP DUPLICATE\n",
    "countries = countries.sort_values(['member','iso_code']).drop_duplicates(subset=['iso_code', 'name', 'label'], keep='first')\n",
    "countries = countries.drop(columns=['member'])"
   ]
  },
  {
   "cell_type": "code",
   "execution_count": null,
   "metadata": {},
   "outputs": [],
   "source": [
    "## FILTER VALUE WHERE ID IS NOT NULL\n",
    "countries = countries[countries['id'].notnull()]"
   ]
  },
  {
   "cell_type": "code",
   "execution_count": null,
   "metadata": {},
   "outputs": [],
   "source": [
    "## FILTER VALUE WHERE NAME IS NOT NULL\n",
    "countries = countries[countries['name'].notnull()]"
   ]
  },
  {
   "cell_type": "code",
   "execution_count": null,
   "metadata": {},
   "outputs": [],
   "source": [
    "## CHANGE ID TO INT\n",
    "countries['id'] = countries['id'].fillna(0)\n",
    "countries['id'] = countries['id'].astype(int)"
   ]
  },
  {
   "cell_type": "code",
   "execution_count": null,
   "metadata": {},
   "outputs": [],
   "source": [
    "countries = countries.sort_values('id').reset_index(drop=True)"
   ]
  },
  {
   "cell_type": "code",
   "execution_count": null,
   "metadata": {},
   "outputs": [],
   "source": [
    "countries.sort_values('id').drop(columns=['label']).to_json('../backend/dev/resources/files/new_countries.json', orient='records', indent=2)"
   ]
  },
  {
   "cell_type": "markdown",
   "metadata": {},
   "source": [
    "# Map countries old id into new id `{old : new}`"
   ]
  },
  {
   "cell_type": "code",
   "execution_count": null,
   "metadata": {},
   "outputs": [],
   "source": [
    "old = open('../backend/dev/resources/files/countries.json')\n",
    "old = json.loads(old.read())\n",
    "old = pd.DataFrame(old)"
   ]
  },
  {
   "cell_type": "code",
   "execution_count": null,
   "metadata": {},
   "outputs": [],
   "source": [
    "old = old.sort_values('iso_code')\n",
    "countries = countries.sort_values('iso_code')"
   ]
  },
  {
   "cell_type": "code",
   "execution_count": null,
   "metadata": {},
   "outputs": [],
   "source": [
    "countries['name'] = countries['label'].fillna(\" \")"
   ]
  },
  {
   "cell_type": "code",
   "execution_count": null,
   "metadata": {},
   "outputs": [],
   "source": [
    "mapping = {};"
   ]
  },
  {
   "cell_type": "code",
   "execution_count": null,
   "metadata": {},
   "outputs": [],
   "source": [
    "def mappingId(df):\n",
    "    new_name = df['label']\n",
    "    if new_name is None:\n",
    "        new_name = \"\"\n",
    "    if \"*\" in new_name:\n",
    "        new_name = new_name.split(\" *\")[0]\n",
    "    if \"North\" in new_name:\n",
    "        new_name = new_name.split(\"North \")\n",
    "        new_name = new_name[0]\n",
    "        if len(new_name) > 0:\n",
    "            new_name = new_name[1]\n",
    "    if \"Canary\" in new_name:\n",
    "        new_name = new_name.split(\" \")[0]\n",
    "    if \",\" in new_name:\n",
    "        new_name = new_name.split(\", \")[0]\n",
    "    if new_name == 'Heard Is. & McDonald Is. (Aust.)':\n",
    "        new_name = 'Heard Isl. & McDonald Is. (Aust.)'\n",
    "    if new_name == 'Norfolk Island (Aust.)':\n",
    "        new_name = 'Norfolk Is. (Aust.)'\n",
    "    if new_name == 'Azores Islands (Port.)':\n",
    "        new_name = 'Azores Is. (Port.)'\n",
    "    if new_name == 'Clipperton Island':\n",
    "        new_name = 'Clipperton Is. (Fr.)'\n",
    "    if new_name == 'Jarvis Island (USA)':\n",
    "        new_name = 'Jarvis Is. (USA)'\n",
    "    if new_name == 'Howland Island (USA)':\n",
    "        new_name = 'Howland Is. (USA)'\n",
    "    if new_name == 'Tajikistan':\n",
    "        new_name = 'Tadjikistan'   \n",
    "    if df['name'] == 'Chagos Archipelago (Mauritius)':\n",
    "        df['name'] = 'Chagos Archipelagio **'\n",
    "            \n",
    "    oldData = old[\n",
    "        ((old['iso_code'] == df['iso_code']) & (old['name'].str.contains(new_name))) \n",
    "        | ((old['iso_code'] == df['iso_code']) & (old['name'] == new_name))\n",
    "        | ((old['iso_code'] == df['iso_code']) & (old['name'] == df['name']))\n",
    "        | ((old['iso_code'] == df['iso_code']) & (old['name'] == df['label']))\n",
    "        | (old['name'] == df['name'])\n",
    "    ]\n",
    "    \n",
    "    oldId = oldData['id'].values\n",
    "    if len(oldId) > 0:\n",
    "        mapping.update({str(oldId[0]): df['id']})\n",
    "        return \"{0}, {1}\".format(oldId[0], df['id'])\n",
    "    mapping.update({str(df['id']): df['id']})\n",
    "    return \"{0}, {1}\".format(df['id'], df['id'])"
   ]
  },
  {
   "cell_type": "code",
   "execution_count": null,
   "metadata": {},
   "outputs": [],
   "source": [
    "countries['mapping'] = countries.apply(mappingId, axis=1)"
   ]
  },
  {
   "cell_type": "code",
   "execution_count": null,
   "metadata": {},
   "outputs": [],
   "source": [
    "with open('../backend/dev/resources/files/new_countries_mapping.json', 'w') as outfile:\n",
    "    json.dump(mapping, outfile)"
   ]
  },
  {
   "cell_type": "code",
   "execution_count": null,
   "metadata": {},
   "outputs": [],
   "source": [
    "countries[countries['id'] == 1101]"
   ]
  },
  {
   "cell_type": "code",
   "execution_count": null,
   "metadata": {},
   "outputs": [],
   "source": [
    "old[old['id'] == 205]"
   ]
  },
  {
   "cell_type": "code",
   "execution_count": null,
   "metadata": {},
   "outputs": [],
   "source": []
  }
 ],
 "metadata": {
  "kernelspec": {
   "display_name": "Python 3",
   "language": "python",
   "name": "python3"
  },
  "language_info": {
   "codemirror_mode": {
    "name": "ipython",
    "version": 3
   },
   "file_extension": ".py",
   "mimetype": "text/x-python",
   "name": "python",
   "nbconvert_exporter": "python",
   "pygments_lexer": "ipython3",
   "version": "3.7.6"
  },
  "toc": {
   "base_numbering": 1,
   "nav_menu": {},
   "number_sections": true,
   "sideBar": true,
   "skip_h1_title": false,
   "title_cell": "Table of Contents",
   "title_sidebar": "Contents",
   "toc_cell": false,
   "toc_position": {},
   "toc_section_display": true,
   "toc_window_display": false
  }
 },
 "nbformat": 4,
 "nbformat_minor": 4
}
