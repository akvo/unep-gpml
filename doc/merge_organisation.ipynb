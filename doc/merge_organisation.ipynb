{
 "cells": [
  {
   "cell_type": "code",
   "execution_count": 47,
   "metadata": {},
   "outputs": [],
   "source": [
    "import pandas as pd\n",
    "import json\n",
    "import numpy as np\n",
    "import re\n",
    "import difflib as kwrd\n",
    "pd.options.display.max_rows = 500"
   ]
  },
  {
   "cell_type": "code",
   "execution_count": 48,
   "metadata": {},
   "outputs": [],
   "source": [
    "def similar(org,name):\n",
    "    org = [y.replace('-',' ').replace('(',' ').replace(')',' ') for y in list(org['name'])]\n",
    "    name = name.replace('-',' ').replace('(',' ').replace(')',' ')\n",
    "    match = kwrd.get_close_matches(name,org,n=3, cutoff=0.5) \n",
    "    if len(match) > 0:\n",
    "        return match[0]\n",
    "    return None"
   ]
  },
  {
   "cell_type": "code",
   "execution_count": 49,
   "metadata": {},
   "outputs": [],
   "source": [
    "with open ('../backend/dev/resources/files/organisations.json', 'r') as orgs:\n",
    "    old = json.loads(orgs.read())"
   ]
  },
  {
   "cell_type": "code",
   "execution_count": 50,
   "metadata": {},
   "outputs": [],
   "source": [
    "old = pd.DataFrame(old)\n",
    "old['abbr'] = old['name'].apply(lambda x: '' if len(x.split('(')) == 1 else x.split('(')[1].replace(')',''))\n",
    "old['name'] = old['name'].apply(lambda x: x.strip())\n",
    "old['lname'] = old['name'].apply(lambda x: x.split('(')[0].lower())"
   ]
  },
  {
   "cell_type": "code",
   "execution_count": 51,
   "metadata": {},
   "outputs": [],
   "source": [
    "new = pd.read_csv('./new_organisation.csv')\n",
    "new['abbr'] = new['name'].apply(lambda x: '' if len(x.split('(')) == 1 else x.split('(')[1].replace(')',''))\n",
    "new['name'] = new['name'].apply(lambda x: x.strip())\n",
    "new['lname'] = new['name'].apply(lambda x: x.split('(')[0].lower())\n",
    "new['review_status'] = 'APPROVED'"
   ]
  },
  {
   "cell_type": "code",
   "execution_count": 52,
   "metadata": {},
   "outputs": [],
   "source": [
    "old['match'] = old['name'].apply(lambda x: similar(new, x))"
   ]
  },
  {
   "cell_type": "code",
   "execution_count": 53,
   "metadata": {
    "scrolled": false
   },
   "outputs": [],
   "source": [
    "URL_REGEX = r\"(?i)\\b((?:https?://|www\\d{0,3}[.]|[a-z0-9.\\-]+[.][a-z]{2,4}/)(?:[^\\s()<>]+|\\(([^\\s()<>]+|(\\([^\\s()<>]+\\)))*\\))+(?:\\(([^\\s()<>]+|(\\([^\\s()<>]+\\)))*\\)|[^\\s`!()\\[\\]{};:'\\\".,<>?«»“”‘’]))\"\n",
    "def getUrl(x):\n",
    "    url = re.findall(URL_REGEX, x)\n",
    "    if len(url) > 0:\n",
    "        return \"https://\" + url[0][0].replace(\"https://\",\"\").replace(\"http://\",\"\")\n",
    "    return None"
   ]
  },
  {
   "cell_type": "code",
   "execution_count": 54,
   "metadata": {},
   "outputs": [],
   "source": [
    "merged = pd.merge(new, old, on=\"lname\", how=\"outer\", validate=\"m:m\").replace([np.nan], [None])\n",
    "merged['name'] = merged.apply(lambda x: x['name_x'] if x['name_x'] else x['name_y'], axis=1)\n",
    "merged = merged[['id','name','country','country_group','type','url', 'program','contribution','expertise','review_status']]\n",
    "merged['url'] = merged['url'].apply(lambda x: getUrl(x) if x else None)\n",
    "merged = merged[['id','name','country','country_group','type','url', 'program','contribution','expertise','review_status']].sort_values('name')\n",
    "merged['review_status'] = merged['review_status'].fillna(\"SUBMITTED\")\n",
    "merged['country_group'] = merged['country_group'].apply(lambda x: None if x == ' ' else x)"
   ]
  },
  {
   "cell_type": "code",
   "execution_count": 55,
   "metadata": {},
   "outputs": [],
   "source": [
    "new_inserted = merged[merged['id'] != merged['id']].reset_index()\n",
    "new_inserted['id'] = new_inserted.index + 1000"
   ]
  },
  {
   "cell_type": "code",
   "execution_count": 56,
   "metadata": {},
   "outputs": [],
   "source": [
    "merged = pd.concat([merged[merged['id'] == merged['id']].sort_values('id'), new_inserted])"
   ]
  },
  {
   "cell_type": "code",
   "execution_count": 61,
   "metadata": {},
   "outputs": [],
   "source": [
    "merged.to_csv('./result/organisation_merged.csv', index=False)"
   ]
  },
  {
   "cell_type": "code",
   "execution_count": 62,
   "metadata": {},
   "outputs": [],
   "source": [
    "unlisted = merged[merged['review_status'] == 'SUBMITTED']\n",
    "unlisted.to_csv('./result/organisation_unlisted.csv')"
   ]
  },
  {
   "cell_type": "code",
   "execution_count": 63,
   "metadata": {},
   "outputs": [],
   "source": [
    "merged.to_json('../backend/dev/resources/files/organisations_new.json', orient='records')"
   ]
  },
  {
   "cell_type": "code",
   "execution_count": null,
   "metadata": {},
   "outputs": [],
   "source": []
  }
 ],
 "metadata": {
  "kernelspec": {
   "display_name": "Python 3",
   "language": "python",
   "name": "python3"
  },
  "language_info": {
   "codemirror_mode": {
    "name": "ipython",
    "version": 3
   },
   "file_extension": ".py",
   "mimetype": "text/x-python",
   "name": "python",
   "nbconvert_exporter": "python",
   "pygments_lexer": "ipython3",
   "version": "3.8.5"
  },
  "toc": {
   "base_numbering": 1,
   "nav_menu": {},
   "number_sections": true,
   "sideBar": true,
   "skip_h1_title": false,
   "title_cell": "Table of Contents",
   "title_sidebar": "Contents",
   "toc_cell": false,
   "toc_position": {},
   "toc_section_display": true,
   "toc_window_display": false
  }
 },
 "nbformat": 4,
 "nbformat_minor": 4
}
