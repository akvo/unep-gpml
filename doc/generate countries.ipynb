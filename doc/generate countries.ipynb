{
 "cells": [
  {
   "cell_type": "code",
   "execution_count": 1,
   "metadata": {},
   "outputs": [],
   "source": [
    "import pandas as pd\n",
    "import json\n",
    "pd.options.display.max_rows = 999"
   ]
  },
  {
   "cell_type": "code",
   "execution_count": 2,
   "metadata": {},
   "outputs": [],
   "source": [
    "countries = open('country_polygon.geojson')\n",
    "countries = json.loads(countries.read())"
   ]
  },
  {
   "cell_type": "code",
   "execution_count": 3,
   "metadata": {},
   "outputs": [],
   "source": [
    "countries = [x['properties'] for x in countries['features']]\n",
    "countries = pd.DataFrame(countries)\n",
    "countries = countries.rename(columns={'FID':'id','ISO3CD':'iso_code','ROMNAM':'name','MAPCLR':'territory','STATUS':'description'})\n",
    "countries = countries[['id','iso_code','name','territory','description']]\n",
    "countries['id'] = countries['id'].astype(int)\n",
    "countries['member'] = countries['description'].apply(lambda x: 1 if x == 'Member State' else 2)"
   ]
  },
  {
   "cell_type": "code",
   "execution_count": 4,
   "metadata": {},
   "outputs": [],
   "source": [
    "## DROP DUPLICATE\n",
    "countries = countries.sort_values('member').drop_duplicates(subset=['name']).sort_values('id')\n",
    "countries = countries.drop(columns=['member'])"
   ]
  },
  {
   "cell_type": "code",
   "execution_count": 5,
   "metadata": {},
   "outputs": [],
   "source": [
    "countries.to_json('../backend/dev/resources/files/countries.json', orient='records')"
   ]
  },
  {
   "cell_type": "code",
   "execution_count": 7,
   "metadata": {},
   "outputs": [],
   "source": [
    "country_group = pd.read_csv('country_group.csv')\n",
    "country_group['id'] = country_group.index + 1\n",
    "country_group = country_group[['id','type','name']]"
   ]
  },
  {
   "cell_type": "code",
   "execution_count": 13,
   "metadata": {},
   "outputs": [],
   "source": [
    "country_group.to_json('../backend/dev/resources/files/country_group.json', orient='records')"
   ]
  }
 ],
 "metadata": {
  "kernelspec": {
   "display_name": "Python 3",
   "language": "python",
   "name": "python3"
  },
  "language_info": {
   "codemirror_mode": {
    "name": "ipython",
    "version": 3
   },
   "file_extension": ".py",
   "mimetype": "text/x-python",
   "name": "python",
   "nbconvert_exporter": "python",
   "pygments_lexer": "ipython3",
   "version": "3.8.5"
  },
  "toc": {
   "base_numbering": 1,
   "nav_menu": {},
   "number_sections": true,
   "sideBar": true,
   "skip_h1_title": false,
   "title_cell": "Table of Contents",
   "title_sidebar": "Contents",
   "toc_cell": false,
   "toc_position": {},
   "toc_section_display": true,
   "toc_window_display": false
  }
 },
 "nbformat": 4,
 "nbformat_minor": 4
}
